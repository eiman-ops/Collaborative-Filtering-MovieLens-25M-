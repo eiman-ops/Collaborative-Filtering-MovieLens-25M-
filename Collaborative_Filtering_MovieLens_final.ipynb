{
  "nbformat": 4,
  "nbformat_minor": 0,
  "metadata": {
    "colab": {
      "name": "Collaborative Filtering MovieLens final.ipynb",
      "provenance": [],
      "collapsed_sections": [],
      "authorship_tag": "ABX9TyMdbFXM7OVytX56gdFdRLm6",
      "include_colab_link": true
    },
    "kernelspec": {
      "name": "python3",
      "display_name": "Python 3"
    },
    "accelerator": "GPU"
  },
  "cells": [
    {
      "cell_type": "markdown",
      "metadata": {
        "id": "view-in-github",
        "colab_type": "text"
      },
      "source": [
        "<a href=\"https://colab.research.google.com/github/eiman-ops/Collaborative-Filtering-MovieLens-25M-/blob/main/Collaborative_Filtering_MovieLens_final.ipynb\" target=\"_parent\"><img src=\"https://colab.research.google.com/assets/colab-badge.svg\" alt=\"Open In Colab\"/></a>"
      ]
    },
    {
      "cell_type": "code",
      "metadata": {
        "colab": {
          "base_uri": "https://localhost:8080/"
        },
        "id": "gPLfFFOWMpJT",
        "outputId": "2af2de2e-9f0c-4411-bebb-2c2212658220"
      },
      "source": [
        "!pip install -Uqq fastbook\r\n",
        "import fastbook\r\n",
        "fastbook.setup_book()"
      ],
      "execution_count": null,
      "outputs": [
        {
          "output_type": "stream",
          "text": [
            "\u001b[K     |████████████████████████████████| 727kB 8.5MB/s \n",
            "\u001b[K     |████████████████████████████████| 1.2MB 17.4MB/s \n",
            "\u001b[K     |████████████████████████████████| 194kB 35.4MB/s \n",
            "\u001b[K     |████████████████████████████████| 51kB 7.8MB/s \n",
            "\u001b[K     |████████████████████████████████| 61kB 9.1MB/s \n",
            "\u001b[?25hMounted at /content/gdrive\n"
          ],
          "name": "stdout"
        }
      ]
    },
    {
      "cell_type": "code",
      "metadata": {
        "id": "IWYA0ZjcMymj"
      },
      "source": [
        "from fastbook import *\r\n",
        "from fastai.collab import *\r\n",
        "import pandas as pd"
      ],
      "execution_count": null,
      "outputs": []
    },
    {
      "cell_type": "code",
      "metadata": {
        "colab": {
          "base_uri": "https://localhost:8080/"
        },
        "id": "B4MgW7mNM1wX",
        "outputId": "adc1d7a3-0d99-4117-da2e-16f87cba7a48"
      },
      "source": [
        "from google.colab import drive\r\n",
        "drive.mount(\"/content/drive\", force_remount=True)\r\n",
        "root_dir = 'gdrive/My Drive/UnpackAi2/ML-25m/'\r\n",
        "base_dir = root_dir + 'ML-25m'"
      ],
      "execution_count": null,
      "outputs": [
        {
          "output_type": "stream",
          "text": [
            "Mounted at /content/drive\n"
          ],
          "name": "stdout"
        }
      ]
    },
    {
      "cell_type": "code",
      "metadata": {
        "colab": {
          "base_uri": "https://localhost:8080/"
        },
        "id": "Ste4gcHOM4Ch",
        "outputId": "0cafe69e-dc6e-41d9-e24c-2ac02be26881"
      },
      "source": [
        "path = Path('/content/drive/My Drive/UnpackAi2/ML-25m/')\r\n",
        "path.ls()"
      ],
      "execution_count": null,
      "outputs": [
        {
          "output_type": "execute_result",
          "data": {
            "text/plain": [
              "(#7) [Path('/content/drive/My Drive/UnpackAi2/ML-25m/tags.csv'),Path('/content/drive/My Drive/UnpackAi2/ML-25m/movies.csv'),Path('/content/drive/My Drive/UnpackAi2/ML-25m/genome-scores.csv'),Path('/content/drive/My Drive/UnpackAi2/ML-25m/genome-tags.csv'),Path('/content/drive/My Drive/UnpackAi2/ML-25m/links.csv'),Path('/content/drive/My Drive/UnpackAi2/ML-25m/README.txt'),Path('/content/drive/My Drive/UnpackAi2/ML-25m/ratings.csv')]"
            ]
          },
          "metadata": {
            "tags": []
          },
          "execution_count": 4
        }
      ]
    },
    {
      "cell_type": "code",
      "metadata": {
        "colab": {
          "base_uri": "https://localhost:8080/",
          "height": 204
        },
        "id": "3L9GHQIpM6sg",
        "outputId": "625ed6cd-4d39-4d49-94a3-093e23c6b7a7"
      },
      "source": [
        "ratings = pd.read_csv(path/'ratings.csv')\r\n",
        "ratings.head()"
      ],
      "execution_count": null,
      "outputs": [
        {
          "output_type": "execute_result",
          "data": {
            "text/html": [
              "<div>\n",
              "<style scoped>\n",
              "    .dataframe tbody tr th:only-of-type {\n",
              "        vertical-align: middle;\n",
              "    }\n",
              "\n",
              "    .dataframe tbody tr th {\n",
              "        vertical-align: top;\n",
              "    }\n",
              "\n",
              "    .dataframe thead th {\n",
              "        text-align: right;\n",
              "    }\n",
              "</style>\n",
              "<table border=\"1\" class=\"dataframe\">\n",
              "  <thead>\n",
              "    <tr style=\"text-align: right;\">\n",
              "      <th></th>\n",
              "      <th>userId</th>\n",
              "      <th>movieId</th>\n",
              "      <th>rating</th>\n",
              "      <th>timestamp</th>\n",
              "    </tr>\n",
              "  </thead>\n",
              "  <tbody>\n",
              "    <tr>\n",
              "      <th>0</th>\n",
              "      <td>1</td>\n",
              "      <td>296</td>\n",
              "      <td>5.0</td>\n",
              "      <td>1147880044</td>\n",
              "    </tr>\n",
              "    <tr>\n",
              "      <th>1</th>\n",
              "      <td>1</td>\n",
              "      <td>306</td>\n",
              "      <td>3.5</td>\n",
              "      <td>1147868817</td>\n",
              "    </tr>\n",
              "    <tr>\n",
              "      <th>2</th>\n",
              "      <td>1</td>\n",
              "      <td>307</td>\n",
              "      <td>5.0</td>\n",
              "      <td>1147868828</td>\n",
              "    </tr>\n",
              "    <tr>\n",
              "      <th>3</th>\n",
              "      <td>1</td>\n",
              "      <td>665</td>\n",
              "      <td>5.0</td>\n",
              "      <td>1147878820</td>\n",
              "    </tr>\n",
              "    <tr>\n",
              "      <th>4</th>\n",
              "      <td>1</td>\n",
              "      <td>899</td>\n",
              "      <td>3.5</td>\n",
              "      <td>1147868510</td>\n",
              "    </tr>\n",
              "  </tbody>\n",
              "</table>\n",
              "</div>"
            ],
            "text/plain": [
              "   userId  movieId  rating   timestamp\n",
              "0       1      296     5.0  1147880044\n",
              "1       1      306     3.5  1147868817\n",
              "2       1      307     5.0  1147868828\n",
              "3       1      665     5.0  1147878820\n",
              "4       1      899     3.5  1147868510"
            ]
          },
          "metadata": {
            "tags": []
          },
          "execution_count": 5
        }
      ]
    },
    {
      "cell_type": "code",
      "metadata": {
        "colab": {
          "base_uri": "https://localhost:8080/",
          "height": 204
        },
        "id": "X3iG1ebkM8_v",
        "outputId": "bd103c8b-46e4-4e33-90be-748e8d8b029a"
      },
      "source": [
        "movies = pd.read_csv(path/'movies.csv')\r\n",
        "movies.head()"
      ],
      "execution_count": null,
      "outputs": [
        {
          "output_type": "execute_result",
          "data": {
            "text/html": [
              "<div>\n",
              "<style scoped>\n",
              "    .dataframe tbody tr th:only-of-type {\n",
              "        vertical-align: middle;\n",
              "    }\n",
              "\n",
              "    .dataframe tbody tr th {\n",
              "        vertical-align: top;\n",
              "    }\n",
              "\n",
              "    .dataframe thead th {\n",
              "        text-align: right;\n",
              "    }\n",
              "</style>\n",
              "<table border=\"1\" class=\"dataframe\">\n",
              "  <thead>\n",
              "    <tr style=\"text-align: right;\">\n",
              "      <th></th>\n",
              "      <th>movieId</th>\n",
              "      <th>title</th>\n",
              "      <th>genres</th>\n",
              "    </tr>\n",
              "  </thead>\n",
              "  <tbody>\n",
              "    <tr>\n",
              "      <th>0</th>\n",
              "      <td>1</td>\n",
              "      <td>Toy Story (1995)</td>\n",
              "      <td>Adventure|Animation|Children|Comedy|Fantasy</td>\n",
              "    </tr>\n",
              "    <tr>\n",
              "      <th>1</th>\n",
              "      <td>2</td>\n",
              "      <td>Jumanji (1995)</td>\n",
              "      <td>Adventure|Children|Fantasy</td>\n",
              "    </tr>\n",
              "    <tr>\n",
              "      <th>2</th>\n",
              "      <td>3</td>\n",
              "      <td>Grumpier Old Men (1995)</td>\n",
              "      <td>Comedy|Romance</td>\n",
              "    </tr>\n",
              "    <tr>\n",
              "      <th>3</th>\n",
              "      <td>4</td>\n",
              "      <td>Waiting to Exhale (1995)</td>\n",
              "      <td>Comedy|Drama|Romance</td>\n",
              "    </tr>\n",
              "    <tr>\n",
              "      <th>4</th>\n",
              "      <td>5</td>\n",
              "      <td>Father of the Bride Part II (1995)</td>\n",
              "      <td>Comedy</td>\n",
              "    </tr>\n",
              "  </tbody>\n",
              "</table>\n",
              "</div>"
            ],
            "text/plain": [
              "   movieId                               title  \\\n",
              "0        1                    Toy Story (1995)   \n",
              "1        2                      Jumanji (1995)   \n",
              "2        3             Grumpier Old Men (1995)   \n",
              "3        4            Waiting to Exhale (1995)   \n",
              "4        5  Father of the Bride Part II (1995)   \n",
              "\n",
              "                                        genres  \n",
              "0  Adventure|Animation|Children|Comedy|Fantasy  \n",
              "1                   Adventure|Children|Fantasy  \n",
              "2                               Comedy|Romance  \n",
              "3                         Comedy|Drama|Romance  \n",
              "4                                       Comedy  "
            ]
          },
          "metadata": {
            "tags": []
          },
          "execution_count": 6
        }
      ]
    },
    {
      "cell_type": "code",
      "metadata": {
        "colab": {
          "base_uri": "https://localhost:8080/",
          "height": 204
        },
        "id": "vAQ0y7zYM_tz",
        "outputId": "42478fcf-04e1-4d91-9919-9c8bc9b6f000"
      },
      "source": [
        "ratings = ratings.merge(movies)\r\n",
        "ratings.head()"
      ],
      "execution_count": null,
      "outputs": [
        {
          "output_type": "execute_result",
          "data": {
            "text/html": [
              "<div>\n",
              "<style scoped>\n",
              "    .dataframe tbody tr th:only-of-type {\n",
              "        vertical-align: middle;\n",
              "    }\n",
              "\n",
              "    .dataframe tbody tr th {\n",
              "        vertical-align: top;\n",
              "    }\n",
              "\n",
              "    .dataframe thead th {\n",
              "        text-align: right;\n",
              "    }\n",
              "</style>\n",
              "<table border=\"1\" class=\"dataframe\">\n",
              "  <thead>\n",
              "    <tr style=\"text-align: right;\">\n",
              "      <th></th>\n",
              "      <th>userId</th>\n",
              "      <th>movieId</th>\n",
              "      <th>rating</th>\n",
              "      <th>timestamp</th>\n",
              "      <th>title</th>\n",
              "      <th>genres</th>\n",
              "    </tr>\n",
              "  </thead>\n",
              "  <tbody>\n",
              "    <tr>\n",
              "      <th>0</th>\n",
              "      <td>1</td>\n",
              "      <td>296</td>\n",
              "      <td>5.0</td>\n",
              "      <td>1147880044</td>\n",
              "      <td>Pulp Fiction (1994)</td>\n",
              "      <td>Comedy|Crime|Drama|Thriller</td>\n",
              "    </tr>\n",
              "    <tr>\n",
              "      <th>1</th>\n",
              "      <td>3</td>\n",
              "      <td>296</td>\n",
              "      <td>5.0</td>\n",
              "      <td>1439474476</td>\n",
              "      <td>Pulp Fiction (1994)</td>\n",
              "      <td>Comedy|Crime|Drama|Thriller</td>\n",
              "    </tr>\n",
              "    <tr>\n",
              "      <th>2</th>\n",
              "      <td>4</td>\n",
              "      <td>296</td>\n",
              "      <td>4.0</td>\n",
              "      <td>1573938898</td>\n",
              "      <td>Pulp Fiction (1994)</td>\n",
              "      <td>Comedy|Crime|Drama|Thriller</td>\n",
              "    </tr>\n",
              "    <tr>\n",
              "      <th>3</th>\n",
              "      <td>5</td>\n",
              "      <td>296</td>\n",
              "      <td>4.0</td>\n",
              "      <td>830786155</td>\n",
              "      <td>Pulp Fiction (1994)</td>\n",
              "      <td>Comedy|Crime|Drama|Thriller</td>\n",
              "    </tr>\n",
              "    <tr>\n",
              "      <th>4</th>\n",
              "      <td>7</td>\n",
              "      <td>296</td>\n",
              "      <td>4.0</td>\n",
              "      <td>835444730</td>\n",
              "      <td>Pulp Fiction (1994)</td>\n",
              "      <td>Comedy|Crime|Drama|Thriller</td>\n",
              "    </tr>\n",
              "  </tbody>\n",
              "</table>\n",
              "</div>"
            ],
            "text/plain": [
              "   userId  movieId  rating   timestamp                title  \\\n",
              "0       1      296     5.0  1147880044  Pulp Fiction (1994)   \n",
              "1       3      296     5.0  1439474476  Pulp Fiction (1994)   \n",
              "2       4      296     4.0  1573938898  Pulp Fiction (1994)   \n",
              "3       5      296     4.0   830786155  Pulp Fiction (1994)   \n",
              "4       7      296     4.0   835444730  Pulp Fiction (1994)   \n",
              "\n",
              "                        genres  \n",
              "0  Comedy|Crime|Drama|Thriller  \n",
              "1  Comedy|Crime|Drama|Thriller  \n",
              "2  Comedy|Crime|Drama|Thriller  \n",
              "3  Comedy|Crime|Drama|Thriller  \n",
              "4  Comedy|Crime|Drama|Thriller  "
            ]
          },
          "metadata": {
            "tags": []
          },
          "execution_count": 7
        }
      ]
    },
    {
      "cell_type": "code",
      "metadata": {
        "colab": {
          "base_uri": "https://localhost:8080/",
          "height": 359
        },
        "id": "AbyJTXxNNBzi",
        "outputId": "ad671cce-cd37-4a67-edfa-646091e552dd"
      },
      "source": [
        "dls = CollabDataLoaders.from_df(ratings, item_name='title', bs=64)\r\n",
        "dls.show_batch()"
      ],
      "execution_count": null,
      "outputs": [
        {
          "output_type": "display_data",
          "data": {
            "text/html": [
              "<table border=\"1\" class=\"dataframe\">\n",
              "  <thead>\n",
              "    <tr style=\"text-align: right;\">\n",
              "      <th></th>\n",
              "      <th>userId</th>\n",
              "      <th>title</th>\n",
              "      <th>rating</th>\n",
              "    </tr>\n",
              "  </thead>\n",
              "  <tbody>\n",
              "    <tr>\n",
              "      <th>0</th>\n",
              "      <td>82945</td>\n",
              "      <td>Copycat (1995)</td>\n",
              "      <td>3.0</td>\n",
              "    </tr>\n",
              "    <tr>\n",
              "      <th>1</th>\n",
              "      <td>2153</td>\n",
              "      <td>Sideways (2004)</td>\n",
              "      <td>4.5</td>\n",
              "    </tr>\n",
              "    <tr>\n",
              "      <th>2</th>\n",
              "      <td>133038</td>\n",
              "      <td>Enemy of the State (1998)</td>\n",
              "      <td>1.0</td>\n",
              "    </tr>\n",
              "    <tr>\n",
              "      <th>3</th>\n",
              "      <td>135767</td>\n",
              "      <td>Shawshank Redemption, The (1994)</td>\n",
              "      <td>4.0</td>\n",
              "    </tr>\n",
              "    <tr>\n",
              "      <th>4</th>\n",
              "      <td>46264</td>\n",
              "      <td>Big Empty, The (2003)</td>\n",
              "      <td>2.5</td>\n",
              "    </tr>\n",
              "    <tr>\n",
              "      <th>5</th>\n",
              "      <td>88432</td>\n",
              "      <td>Teen Wolf (1985)</td>\n",
              "      <td>3.0</td>\n",
              "    </tr>\n",
              "    <tr>\n",
              "      <th>6</th>\n",
              "      <td>147420</td>\n",
              "      <td>Waking Ned Devine (a.k.a. Waking Ned) (1998)</td>\n",
              "      <td>3.5</td>\n",
              "    </tr>\n",
              "    <tr>\n",
              "      <th>7</th>\n",
              "      <td>36855</td>\n",
              "      <td>E.T. the Extra-Terrestrial (1982)</td>\n",
              "      <td>3.0</td>\n",
              "    </tr>\n",
              "    <tr>\n",
              "      <th>8</th>\n",
              "      <td>23891</td>\n",
              "      <td>One Flew Over the Cuckoo's Nest (1975)</td>\n",
              "      <td>4.5</td>\n",
              "    </tr>\n",
              "    <tr>\n",
              "      <th>9</th>\n",
              "      <td>132922</td>\n",
              "      <td>You Can Count on Me (2000)</td>\n",
              "      <td>4.0</td>\n",
              "    </tr>\n",
              "  </tbody>\n",
              "</table>"
            ],
            "text/plain": [
              "<IPython.core.display.HTML object>"
            ]
          },
          "metadata": {
            "tags": []
          }
        }
      ]
    },
    {
      "cell_type": "code",
      "metadata": {
        "id": "mIjfrk1INEbj"
      },
      "source": [
        "learn = collab_learner(dls, n_factors=50, y_range=(0, 5.5))"
      ],
      "execution_count": null,
      "outputs": []
    },
    {
      "cell_type": "code",
      "metadata": {
        "colab": {
          "base_uri": "https://localhost:8080/",
          "height": 204
        },
        "id": "vvhzKhnXNHcJ",
        "outputId": "5f249a02-5030-444f-e3b5-ba8775067a05"
      },
      "source": [
        "learn.fit_one_cycle(5, 5e-3, wd=0.1)"
      ],
      "execution_count": null,
      "outputs": [
        {
          "output_type": "display_data",
          "data": {
            "text/html": [
              "<table border=\"1\" class=\"dataframe\">\n",
              "  <thead>\n",
              "    <tr style=\"text-align: left;\">\n",
              "      <th>epoch</th>\n",
              "      <th>train_loss</th>\n",
              "      <th>valid_loss</th>\n",
              "      <th>time</th>\n",
              "    </tr>\n",
              "  </thead>\n",
              "  <tbody>\n",
              "    <tr>\n",
              "      <td>0</td>\n",
              "      <td>0.961733</td>\n",
              "      <td>1.006366</td>\n",
              "      <td>54:22</td>\n",
              "    </tr>\n",
              "    <tr>\n",
              "      <td>1</td>\n",
              "      <td>1.019276</td>\n",
              "      <td>1.005224</td>\n",
              "      <td>54:25</td>\n",
              "    </tr>\n",
              "    <tr>\n",
              "      <td>2</td>\n",
              "      <td>0.957726</td>\n",
              "      <td>0.976395</td>\n",
              "      <td>54:32</td>\n",
              "    </tr>\n",
              "    <tr>\n",
              "      <td>3</td>\n",
              "      <td>0.935747</td>\n",
              "      <td>0.929342</td>\n",
              "      <td>54:26</td>\n",
              "    </tr>\n",
              "    <tr>\n",
              "      <td>4</td>\n",
              "      <td>0.897359</td>\n",
              "      <td>0.895913</td>\n",
              "      <td>54:36</td>\n",
              "    </tr>\n",
              "  </tbody>\n",
              "</table>"
            ],
            "text/plain": [
              "<IPython.core.display.HTML object>"
            ]
          },
          "metadata": {
            "tags": []
          }
        }
      ]
    },
    {
      "cell_type": "code",
      "metadata": {
        "colab": {
          "base_uri": "https://localhost:8080/"
        },
        "id": "F4aLiR6yQIOr",
        "outputId": "c1723f96-b73e-4b9a-b240-deda38ea0271"
      },
      "source": [
        "g = ratings.groupby('title')['rating'].count()\r\n",
        "top_movies = g.sort_values(ascending=False).index.values[:1000]\r\n",
        "top_movies[:10]"
      ],
      "execution_count": null,
      "outputs": [
        {
          "output_type": "execute_result",
          "data": {
            "text/plain": [
              "array(['Forrest Gump (1994)', 'Shawshank Redemption, The (1994)', 'Pulp Fiction (1994)', 'Silence of the Lambs, The (1991)', 'Matrix, The (1999)', 'Star Wars: Episode IV - A New Hope (1977)',\n",
              "       'Jurassic Park (1993)', \"Schindler's List (1993)\", 'Braveheart (1995)', 'Fight Club (1999)'], dtype=object)"
            ]
          },
          "metadata": {
            "tags": []
          },
          "execution_count": 11
        }
      ]
    },
    {
      "cell_type": "code",
      "metadata": {
        "colab": {
          "base_uri": "https://localhost:8080/"
        },
        "id": "8PzqFQbiQXmQ",
        "outputId": "8824325b-e69e-4de3-8a4f-b6e3e17292a0"
      },
      "source": [
        "movie_bias = learn.model.bias(top_movies, is_item=True)\r\n",
        "movie_bias.shape"
      ],
      "execution_count": null,
      "outputs": [
        {
          "output_type": "execute_result",
          "data": {
            "text/plain": [
              "torch.Size([1000])"
            ]
          },
          "metadata": {
            "tags": []
          },
          "execution_count": 12
        }
      ]
    },
    {
      "cell_type": "code",
      "metadata": {
        "id": "UAZ-_V_bQd7M"
      },
      "source": [
        "mean_ratings = ratings.groupby('title')['rating'].mean()\r\n",
        "movie_ratings = [(b, i, mean_ratings.loc[i]) for i,b in zip(top_movies,movie_bias)]"
      ],
      "execution_count": null,
      "outputs": []
    },
    {
      "cell_type": "code",
      "metadata": {
        "colab": {
          "base_uri": "https://localhost:8080/"
        },
        "id": "6NNo4Jb_Qi2I",
        "outputId": "9db203de-87fc-43d4-b08e-c0aac4f6f02b"
      },
      "source": [
        "item0 = lambda o:o[0]\r\n",
        "sorted(movie_ratings, key=item0)[:15]"
      ],
      "execution_count": null,
      "outputs": [
        {
          "output_type": "execute_result",
          "data": {
            "text/plain": [
              "[(tensor(-0.2604), 'Batman & Robin (1997)', 2.160149918962723),\n",
              " (tensor(-0.2188), 'Wild Wild West (1999)', 2.31967073274759),\n",
              " (tensor(-0.2053), 'Showgirls (1995)', 2.2478297395687483),\n",
              " (tensor(-0.1724), 'Godzilla (1998)', 2.373144567793439),\n",
              " (tensor(-0.1498), 'Flintstones, The (1994)', 2.4127870563674323),\n",
              " (tensor(-0.1413), 'Striptease (1996)', 2.403895524054024),\n",
              " (tensor(-0.1354), 'Scream 3 (2000)', 2.430953105968331),\n",
              " (tensor(-0.1354),\n",
              "  'I Know What You Did Last Summer (1997)',\n",
              "  2.4885263297519566),\n",
              " (tensor(-0.1208), 'Hollow Man (2000)', 2.53809586689555),\n",
              " (tensor(-0.1203), 'Judge Dredd (1995)', 2.555359804851606),\n",
              " (tensor(-0.1071), 'Daredevil (2003)', 2.5169466106778646),\n",
              " (tensor(-0.1033), 'Coneheads (1993)', 2.5814764286797027),\n",
              " (tensor(-0.0997),\n",
              "  'Ace Ventura: When Nature Calls (1995)',\n",
              "  2.6421677802524126),\n",
              " (tensor(-0.0832), 'Hulk (2003)', 2.6377331420373027),\n",
              " (tensor(-0.0821), 'Honey, I Shrunk the Kids (1989)', 2.718742232165051)]"
            ]
          },
          "metadata": {
            "tags": []
          },
          "execution_count": 14
        }
      ]
    },
    {
      "cell_type": "code",
      "metadata": {
        "colab": {
          "base_uri": "https://localhost:8080/"
        },
        "id": "S2lzexa4QqWi",
        "outputId": "41083014-2cd8-42f3-97ec-be5dc367eb1c"
      },
      "source": [
        "sorted(movie_ratings, key=lambda o: o[0], reverse=True)[:15]"
      ],
      "execution_count": null,
      "outputs": [
        {
          "output_type": "execute_result",
          "data": {
            "text/plain": [
              "[(tensor(1.0226), 'Shawshank Redemption, The (1994)', 4.413576004516335),\n",
              " (tensor(0.8558), 'Usual Suspects, The (1995)', 4.284353213163313),\n",
              " (tensor(0.8460), \"Schindler's List (1993)\", 4.247579083279535),\n",
              " (tensor(0.8448), 'Godfather, The (1972)', 4.324336165187245),\n",
              " (tensor(0.8003), 'Silence of the Lambs, The (1991)', 4.151341616415071),\n",
              " (tensor(0.7992), 'Fight Club (1999)', 4.228310618821568),\n",
              " (tensor(0.7889), 'Pulp Fiction (1994)', 4.188912039361382),\n",
              " (tensor(0.7630), 'Matrix, The (1999)', 4.154099127610975),\n",
              " (tensor(0.7413), 'Godfather: Part II, The (1974)', 4.2617585117585115),\n",
              " (tensor(0.7303),\n",
              "  \"One Flew Over the Cuckoo's Nest (1975)\",\n",
              "  4.2186616007543405),\n",
              " (tensor(0.7302), 'Inception (2010)', 4.155508420105412),\n",
              " (tensor(0.7270), 'Dark Knight, The (2008)', 4.166538211421277),\n",
              " (tensor(0.7270), 'Forrest Gump (1994)', 4.048011436845787),\n",
              " (tensor(0.7184),\n",
              "  'Star Wars: Episode IV - A New Hope (1977)',\n",
              "  4.120188599618726),\n",
              " (tensor(0.7160),\n",
              "  'Star Wars: Episode V - The Empire Strikes Back (1980)',\n",
              "  4.144122313069856)]"
            ]
          },
          "metadata": {
            "tags": []
          },
          "execution_count": 15
        }
      ]
    },
    {
      "cell_type": "code",
      "metadata": {
        "colab": {
          "base_uri": "https://localhost:8080/"
        },
        "id": "kVtj2Q1xQuWo",
        "outputId": "7ce271fd-8180-4da5-cef4-443b7b9d5a42"
      },
      "source": [
        "movie_w = learn.model.weight(top_movies, is_item=True)\r\n",
        "movie_w.shape"
      ],
      "execution_count": null,
      "outputs": [
        {
          "output_type": "execute_result",
          "data": {
            "text/plain": [
              "torch.Size([1000, 50])"
            ]
          },
          "metadata": {
            "tags": []
          },
          "execution_count": 16
        }
      ]
    },
    {
      "cell_type": "code",
      "metadata": {
        "colab": {
          "base_uri": "https://localhost:8080/"
        },
        "id": "Q2qW20eIQyRk",
        "outputId": "08425168-4d3c-4983-e6d8-1a2bd7bd7f54"
      },
      "source": [
        "movie_pca = movie_w.pca(3)\r\n",
        "movie_pca.shape"
      ],
      "execution_count": null,
      "outputs": [
        {
          "output_type": "execute_result",
          "data": {
            "text/plain": [
              "torch.Size([1000, 3])"
            ]
          },
          "metadata": {
            "tags": []
          },
          "execution_count": 17
        }
      ]
    },
    {
      "cell_type": "code",
      "metadata": {
        "id": "zWua2z1jQ2b6"
      },
      "source": [
        "fac0,fac1,fac2 = movie_pca.t()\r\n",
        "movie_comp = [(f, i) for f,i in zip(fac0, top_movies)]"
      ],
      "execution_count": null,
      "outputs": []
    },
    {
      "cell_type": "code",
      "metadata": {
        "colab": {
          "base_uri": "https://localhost:8080/"
        },
        "id": "4fc3gB7bQ7Sp",
        "outputId": "eebc1943-9fa7-46cf-976c-ccf56cfa7e65"
      },
      "source": [
        "sorted(movie_comp, key=itemgetter(0), reverse=True)[:10]"
      ],
      "execution_count": null,
      "outputs": [
        {
          "output_type": "execute_result",
          "data": {
            "text/plain": [
              "[(tensor(1.9973), 'Independence Day (a.k.a. ID4) (1996)'),\n",
              " (tensor(1.8630), 'Twister (1996)'),\n",
              " (tensor(1.8493), 'Batman Forever (1995)'),\n",
              " (tensor(1.8358), 'Net, The (1995)'),\n",
              " (tensor(1.8346), 'Batman & Robin (1997)'),\n",
              " (tensor(1.7842), 'Wild Wild West (1999)'),\n",
              " (tensor(1.7445), 'Armageddon (1998)'),\n",
              " (tensor(1.7429), 'Congo (1995)'),\n",
              " (tensor(1.7085), 'Judge Dredd (1995)'),\n",
              " (tensor(1.6097), 'Flintstones, The (1994)')]"
            ]
          },
          "metadata": {
            "tags": []
          },
          "execution_count": 19
        }
      ]
    },
    {
      "cell_type": "code",
      "metadata": {
        "colab": {
          "base_uri": "https://localhost:8080/"
        },
        "id": "qKMUE0XuQ-xt",
        "outputId": "cbd813da-5a5d-4c42-9df6-7e575bd377f8"
      },
      "source": [
        "sorted(movie_comp, key=itemgetter(0))[:10]"
      ],
      "execution_count": null,
      "outputs": [
        {
          "output_type": "execute_result",
          "data": {
            "text/plain": [
              "[(tensor(-2.0331), 'Godfather, The (1972)'),\n",
              " (tensor(-2.0268),\n",
              "  'Dr. Strangelove or: How I Learned to Stop Worrying and Love the Bomb (1964)'),\n",
              " (tensor(-2.0016), 'Pulp Fiction (1994)'),\n",
              " (tensor(-1.8952), 'Casablanca (1942)'),\n",
              " (tensor(-1.8555), 'Citizen Kane (1941)'),\n",
              " (tensor(-1.8330), 'Fargo (1996)'),\n",
              " (tensor(-1.7883), 'Godfather: Part II, The (1974)'),\n",
              " (tensor(-1.7751), 'Apocalypse Now (1979)'),\n",
              " (tensor(-1.7584), 'Clockwork Orange, A (1971)'),\n",
              " (tensor(-1.7455), 'Taxi Driver (1976)')]"
            ]
          },
          "metadata": {
            "tags": []
          },
          "execution_count": 20
        }
      ]
    },
    {
      "cell_type": "code",
      "metadata": {
        "id": "pKHkj-QURC2q"
      },
      "source": [
        "movie_comp = [(f, i) for f,i in zip(fac1, top_movies)]"
      ],
      "execution_count": null,
      "outputs": []
    },
    {
      "cell_type": "code",
      "metadata": {
        "colab": {
          "base_uri": "https://localhost:8080/"
        },
        "id": "zS-N_vEyRHwZ",
        "outputId": "3dcee904-2200-4973-e194-9c4eea95b429"
      },
      "source": [
        "sorted(movie_comp, key=itemgetter(0))[:10]"
      ],
      "execution_count": null,
      "outputs": [
        {
          "output_type": "execute_result",
          "data": {
            "text/plain": [
              "[(tensor(-1.3365), 'Lord of the Rings: The Return of the King, The (2003)'),\n",
              " (tensor(-1.2442), 'Lord of the Rings: The Two Towers, The (2002)'),\n",
              " (tensor(-1.2231), 'Inception (2010)'),\n",
              " (tensor(-1.2229), 'Shawshank Redemption, The (1994)'),\n",
              " (tensor(-1.2104), 'Dark Knight, The (2008)'),\n",
              " (tensor(-1.1862), 'Matrix, The (1999)'),\n",
              " (tensor(-1.1799), 'Forrest Gump (1994)'),\n",
              " (tensor(-1.1185), 'Star Wars: Episode VI - Return of the Jedi (1983)'),\n",
              " (tensor(-1.1123),\n",
              "  'Lord of the Rings: The Fellowship of the Ring, The (2001)'),\n",
              " (tensor(-1.1083), 'Back to the Future (1985)')]"
            ]
          },
          "metadata": {
            "tags": []
          },
          "execution_count": 22
        }
      ]
    },
    {
      "cell_type": "code",
      "metadata": {
        "colab": {
          "base_uri": "https://localhost:8080/",
          "height": 730
        },
        "id": "9ZbW-JoNRMZo",
        "outputId": "6de8fce0-9bff-4114-e0b9-1b7bb8908a02"
      },
      "source": [
        "idxs = np.random.choice(len(top_movies), 50, replace=False)\r\n",
        "idxs = list(range(50))\r\n",
        "X = fac0[idxs]\r\n",
        "Y = fac2[idxs]\r\n",
        "plt.figure(figsize=(15,15))\r\n",
        "plt.scatter(X, Y)\r\n",
        "for i, x, y in zip(top_movies[idxs], X, Y):\r\n",
        "    plt.text(x,y,i, color=np.random.rand(3)*0.7, fontsize=11)\r\n",
        "plt.show()\r\n"
      ],
      "execution_count": null,
      "outputs": [
        {
          "output_type": "display_data",
          "data": {
            "image/png": "[encoded data removed]",
            "text/plain": [
              "<Figure size 1080x1080 with 1 Axes>"
            ]
          },
          "metadata": {
            "tags": [],
            "needs_background": "light"
          }
        }
      ]
    },
    {
      "cell_type": "code",
      "metadata": {
        "colab": {
          "base_uri": "https://localhost:8080/"
        },
        "id": "FU0yAMNDWtHh",
        "outputId": "bf5de610-7083-4116-ac6c-d8b1fc601ebb"
      },
      "source": [
        "learn.save('/content/drive/My Drive/UnpackAi2/ML-25m/')"
      ],
      "execution_count": null,
      "outputs": [
        {
          "output_type": "execute_result",
          "data": {
            "text/plain": [
              "Path('/content/drive/My Drive/UnpackAi2/ML-25m/.pth')"
            ]
          },
          "metadata": {
            "tags": []
          },
          "execution_count": 25
        }
      ]
    },
    {
      "cell_type": "code",
      "metadata": {
        "colab": {
          "base_uri": "https://localhost:8080/"
        },
        "id": "dvODdyKsZigj",
        "outputId": "74c1e9be-52dd-4498-c536-39a673029714"
      },
      "source": [
        "learn.save"
      ],
      "execution_count": null,
      "outputs": [
        {
          "output_type": "execute_result",
          "data": {
            "text/plain": [
              "<bound method Learner.save of <fastai.learner.Learner object at 0x7f1e43688c18>>"
            ]
          },
          "metadata": {
            "tags": []
          },
          "execution_count": 29
        }
      ]
    },
    {
      "cell_type": "code",
      "metadata": {
        "id": "65rIR71tZVsB"
      },
      "source": [
        "learn.export()"
      ],
      "execution_count": null,
      "outputs": []
    },
    {
      "cell_type": "code",
      "metadata": {
        "colab": {
          "base_uri": "https://localhost:8080/"
        },
        "id": "eMMObab3ZkdC",
        "outputId": "d7801d30-a60b-44a2-b583-08a111cb6eb0"
      },
      "source": [
        "path = Path('/content/drive/My Drive/Colab Notebooks/')\r\n",
        "path.ls(file_exts='.pkl')"
      ],
      "execution_count": null,
      "outputs": [
        {
          "output_type": "execute_result",
          "data": {
            "text/plain": [
              "(#1) [Path('/content/drive/My Drive/Colab Notebooks/export.pkl')]"
            ]
          },
          "metadata": {
            "tags": []
          },
          "execution_count": 31
        }
      ]
    }
  ]
}